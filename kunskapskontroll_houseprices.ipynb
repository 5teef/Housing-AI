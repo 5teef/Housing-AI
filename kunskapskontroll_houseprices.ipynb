{
 "cells": [
  {
   "cell_type": "markdown",
   "id": "21f9c39e",
   "metadata": {},
   "source": [
    "# Kunskapskontroll"
   ]
  },
  {
   "cell_type": "markdown",
   "id": "a9db5c1e-04b4-4663-bd52-99c7cfbf3871",
   "metadata": {},
   "source": [
    "### Fyll i uppgifterna nedan innan du lämnar in på LearnPoint: \n",
    "Namn på samtliga gruppmedlemmar: "
   ]
  },
  {
   "cell_type": "markdown",
   "id": "1c9240d4-6646-48ae-8837-45a0f0b34827",
   "metadata": {},
   "source": [
    "Asami, Guy, Mustafa,  Pawel, Vidar"
   ]
  },
  {
   "cell_type": "markdown",
   "id": "a96931ff",
   "metadata": {},
   "source": [
    "# Code"
   ]
  },
  {
   "cell_type": "markdown",
   "id": "700c2fd7",
   "metadata": {},
   "source": [
    "##### Importer"
   ]
  },
  {
   "cell_type": "code",
   "execution_count": null,
   "id": "ee4fcb98",
   "metadata": {},
   "outputs": [],
   "source": [
    "import numpy as np\n",
    "import pandas as pd\n",
    "import matplotlib.pyplot as plt\n",
    "import seaborn as sns\n",
    "import warnings\n",
    "warnings.filterwarnings('ignore', category=FutureWarning)\n",
    "from pandas.plotting import scatter_matrix\n",
    "from sklearn.preprocessing import OrdinalEncoder\n",
    "from sklearn.model_selection import train_test_split, GridSearchCV, cross_validate\n",
    "from sklearn.linear_model import LinearRegression\n",
    "from sklearn.metrics import mean_squared_error, r2_score\n",
    "from sklearn import linear_model\n",
    "from sklearn.linear_model import Lasso\n",
    "from sklearn.svm import SVR\n",
    "from sklearn.preprocessing import StandardScaler\n",
    "from sklearn.pipeline import Pipeline\n",
    "\n"
   ]
  },
  {
   "cell_type": "markdown",
   "id": "5f1f4fc6",
   "metadata": {},
   "source": [
    "##### Läsa in CSV"
   ]
  },
  {
   "cell_type": "code",
   "execution_count": null,
   "id": "abfd2901",
   "metadata": {},
   "outputs": [],
   "source": [
    "housing = pd.read_csv('data/housing.csv')\n"
   ]
  },
  {
   "cell_type": "markdown",
   "id": "7059fc6c",
   "metadata": {},
   "source": [
    "#### Överblicka datan"
   ]
  },
  {
   "cell_type": "code",
   "execution_count": null,
   "id": "adf403a8",
   "metadata": {},
   "outputs": [],
   "source": [
    "print(housing.info())"
   ]
  },
  {
   "cell_type": "code",
   "execution_count": null,
   "id": "6167086f",
   "metadata": {},
   "outputs": [],
   "source": [
    "housing.hist(bins=50, figsize=(20,15))\n",
    "plt.suptitle('Distribution of Housing Data Features')  # Adds a title above all subplots\n",
    "plt.show()"
   ]
  },
  {
   "cell_type": "code",
   "execution_count": null,
   "id": "ee26b9dd",
   "metadata": {},
   "outputs": [],
   "source": [
    "housing.plot(kind=\"scatter\", x=\"longitude\", y=\"latitude\", alpha=0.4,\n",
    "    s=housing[\"population\"]/100, label=\"population\", figsize=(10,7),\n",
    "    c=\"median_house_value\", cmap=plt.get_cmap(\"jet\"), colorbar=True)\n",
    "plt.legend()\n",
    "plt.title('California Housing Prices and Population Distribution')\n",
    "plt.show()\n"
   ]
  },
  {
   "cell_type": "code",
   "execution_count": null,
   "id": "f97b3ec4",
   "metadata": {},
   "outputs": [],
   "source": [
    "housing['ocean_proximity'].value_counts()"
   ]
  },
  {
   "cell_type": "code",
   "execution_count": null,
   "id": "d5dab0bc",
   "metadata": {},
   "outputs": [],
   "source": [
    "plt.figure(figsize=(10,7))\n",
    "sns.scatterplot(x=\"longitude\", y=\"latitude\", hue=\"ocean_proximity\", \n",
    "                size=\"population\", sizes=(20,200), alpha=0.4, \n",
    "                palette=\"muted\", data=housing)\n",
    "\n",
    "# Show the legend\n",
    "plt.legend()\n",
    "\n",
    "# Add a title to the plot\n",
    "plt.title('Geographical Distribution of Housing by Ocean Proximity and Population Size')\n",
    "\n",
    "# Display the plot\n",
    "plt.show()\n"
   ]
  },
  {
   "cell_type": "markdown",
   "id": "69d55b28",
   "metadata": {},
   "source": [
    "#### Förbered data\n",
    "- Ta bort > 500,000 från kolumnen median_house_value\n",
    "- Ta bort > 51 från kolumnen median_house_age\n",
    "- Konvertera ocean_proximity med ordinal encoding (1-4), ta bort ISLAND\n",
    "- Fyll tomma värden med medelvärde/median i kolumnen total_bedrooms"
   ]
  },
  {
   "cell_type": "code",
   "execution_count": null,
   "id": "22cf8a05",
   "metadata": {},
   "outputs": [],
   "source": [
    "# Filter the data and assign it to a new DataFrame\n",
    "filtered_housing = housing[(housing['median_house_value'] <= 500000) & (housing['housing_median_age'] <= 51) & (housing['ocean_proximity'] != 'ISLAND')].copy()\n"
   ]
  },
  {
   "cell_type": "code",
   "execution_count": null,
   "id": "cd0389af",
   "metadata": {},
   "outputs": [],
   "source": [
    "category_mapping = {'INLAND': 0, '<1H OCEAN': 1, 'NEAR OCEAN': 2, 'NEAR BAY': 3}\n",
    "categories = list(category_mapping.keys())\n",
    "encoder = OrdinalEncoder(categories=[categories])\n",
    "filtered_housing['ocean_proximity_encoded'] = encoder.fit_transform(filtered_housing[['ocean_proximity']])\n"
   ]
  },
  {
   "cell_type": "code",
   "execution_count": null,
   "id": "d88f147c",
   "metadata": {},
   "outputs": [],
   "source": [
    "# Calculate the mean of the 'total_bedrooms' column in filtered_housing\n",
    "mean_total_bedrooms = filtered_housing['total_bedrooms'].mean()\n",
    "\n",
    "# Fill the missing values with the mean in filtered_housing\n",
    "filtered_housing.loc[:, 'total_bedrooms'] = filtered_housing['total_bedrooms'].fillna(mean_total_bedrooms)\n"
   ]
  },
  {
   "cell_type": "markdown",
   "id": "e6fabf5a",
   "metadata": {},
   "source": [
    "##### Jämföra ny data med hjälp av tabell och diagram\n",
    " \n"
   ]
  },
  {
   "cell_type": "code",
   "execution_count": null,
   "id": "e5341172",
   "metadata": {},
   "outputs": [],
   "source": [
    "# Before making changes, save a copy of the original DataFrame for comparison\n",
    "original_housing = housing.copy()\n",
    "\n",
    "print(\"Original Data:\")\n",
    "display(original_housing.describe())\n",
    "print(\"\\nFiltered Data:\")\n",
    "display(filtered_housing.describe())\n",
    "\n",
    "print(filtered_housing.info())\n",
    "\n",
    "# Visualize the changes in 'median_house_value'\n",
    "plt.figure(figsize=(12, 6))\n",
    "plt.subplot(1, 2, 1)\n",
    "sns.histplot(original_housing['median_house_value'], bins=50, kde=True)\n",
    "plt.title('Original Median House Value Distribution')\n",
    "plt.subplot(1, 2, 2)\n",
    "sns.histplot(filtered_housing['median_house_value'], bins=50, kde=True)\n",
    "plt.title('Filtered Median House Value Distribution')\n",
    "plt.show()\n",
    "\n",
    "# Visualize the changes in 'housing_median_age'\n",
    "plt.figure(figsize=(12, 6))\n",
    "\n",
    "# Plot for the original housing data\n",
    "plt.subplot(1, 2, 1)\n",
    "sns.histplot(original_housing['housing_median_age'], bins=50, kde=True)\n",
    "plt.title('Original Housing Median Age Distribution')\n",
    "\n",
    "# Plot for the filtered housing data\n",
    "plt.subplot(1, 2, 2)\n",
    "sns.histplot(filtered_housing['housing_median_age'], bins=50, kde=True)\n",
    "plt.title('Filtered Housing Median Age Distribution')\n",
    "\n",
    "# Display the plots\n",
    "plt.show()\n",
    "\n",
    "# Visualize the changes in 'ocean_proximity'\n",
    "plt.figure(figsize=(12, 6))\n",
    "plt.subplot(1, 2, 1)\n",
    "original_housing['ocean_proximity'].value_counts().plot(kind='bar')\n",
    "plt.title('Original Ocean Proximity Counts')\n",
    "plt.subplot(1, 2, 2)\n",
    "filtered_housing['ocean_proximity_encoded'].value_counts().plot(kind='bar')\n",
    "plt.title('Encoded Ocean Proximity Counts')\n",
    "plt.show()\n",
    "\n",
    "\n"
   ]
  },
  {
   "cell_type": "code",
   "execution_count": null,
   "id": "4182e79f",
   "metadata": {},
   "outputs": [],
   "source": []
  },
  {
   "cell_type": "markdown",
   "id": "fee19169",
   "metadata": {},
   "source": [
    "\n",
    "### Hitta vilka variablar/features att ha med testdata "
   ]
  },
  {
   "cell_type": "code",
   "execution_count": null,
   "id": "8d605b84-50b6-4dd8-847b-987aec902e8c",
   "metadata": {},
   "outputs": [],
   "source": [
    "housing_float = filtered_housing.copy()\n",
    "housing_float = housing_float.drop(['ocean_proximity'], axis=1)\n",
    "corr_matrix = housing_float.corr()\n",
    "plt.subplots(figsize=(15,10))\n",
    "sns.heatmap(corr_matrix, annot=True)"
   ]
  },
  {
   "cell_type": "markdown",
   "id": "157feb11",
   "metadata": {},
   "source": [
    "#### Prova nya variablar"
   ]
  },
  {
   "cell_type": "code",
   "execution_count": null,
   "id": "5d6f2592",
   "metadata": {},
   "outputs": [],
   "source": [
    "housing_variables = housing_float.copy()\n",
    "\n",
    "housing_variables[\"rooms_per_household\"] = housing_variables[\"total_rooms\"]/housing_variables[\"households\"]\n",
    "housing_variables[\"bedrooms_per_room\"] = housing_variables[\"total_bedrooms\"]/housing_variables[\"total_rooms\"]\n",
    "housing_variables[\"population_per_household\"]=housing_variables[\"population\"]/housing_variables[\"households\"]\n",
    "# Jag lade till featuresen nedan för att testa (GB), population_per_bedroom i synnerhet verkar lovande\n",
    "# housing_variables[\"bedrooms_per_household\"] = housing_variables[\"total_bedrooms\"]/housing_variables[\"households\"]\n",
    "housing_variables[\"population_per_bedroom\"]=housing_variables[\"population\"]/housing_variables[\"total_bedrooms\"]\n"
   ]
  },
  {
   "cell_type": "code",
   "execution_count": null,
   "id": "59d2b129",
   "metadata": {},
   "outputs": [],
   "source": [
    "\n",
    "corr_matrix = housing_variables.corr()\n",
    "plt.subplots(figsize=(15,10))\n",
    "sns.heatmap(corr_matrix, annot=True,)"
   ]
  },
  {
   "cell_type": "code",
   "execution_count": null,
   "id": "eccf795b",
   "metadata": {},
   "outputs": [],
   "source": [
    "corr_matrix = housing_variables.corr()\n",
    "corr_matrix[\"median_house_value\"].sort_values(ascending=False)\n"
   ]
  },
  {
   "cell_type": "code",
   "execution_count": null,
   "id": "e04d9b1c",
   "metadata": {},
   "outputs": [],
   "source": [
    "housing_variables.info()"
   ]
  },
  {
   "cell_type": "markdown",
   "id": "2e91c8f3",
   "metadata": {},
   "source": [
    "#### Använda RandomForestRegressor för att hitta de viktigaste variablarna/features\n"
   ]
  },
  {
   "cell_type": "code",
   "execution_count": null,
   "id": "e028ca6e",
   "metadata": {},
   "outputs": [],
   "source": [
    "from sklearn.ensemble import RandomForestRegressor\n",
    "import matplotlib.pyplot as plt\n",
    "\n",
    "X = housing_variables.drop('median_house_value', axis=1)\n",
    "y = housing_variables['median_house_value']\n",
    "\n",
    "# Split the data into training set and test set\n",
    "# X_train, X_test, y_train, y_test = train_test_split(X, y, test_size=0.2, random_state=42)\n",
    "\n",
    "# First, split your data into a larger training set and a test set\n",
    "X_train_full, X_test, y_train_full, y_test = train_test_split(X, y, test_size=0.2, random_state=42)\n",
    "\n",
    "# Then, split your larger training set into a smaller training set and a validation set\n",
    "X_train, X_val, y_train, y_val = train_test_split(X_train_full, y_train_full, test_size=0.2, random_state=42)\n",
    "\n",
    "\n",
    "\n",
    "# Skapa och träna en Random Forest-regressor\n",
    "rf_reg = RandomForestRegressor()\n",
    "rf_reg.fit(X_train, y_train)\n",
    "\n",
    "# Hämta feature importance\n",
    "importance = rf_reg.feature_importances_\n",
    "\n",
    "# Hämta kolumnnamnen från din ursprungliga dataset\n",
    "feature_names = X_train.columns\n",
    "\n",
    "\n",
    "# Sort the features by importance\n",
    "sorted_idx = np.argsort(importance)\n",
    "sorted_feature_names = feature_names[sorted_idx]\n",
    "sorted_importance = importance[sorted_idx]\n",
    "\n",
    "# Create a clearer plot\n",
    "plt.figure(figsize=(12, 8))  # Increase the figure size\n",
    "plt.barh(sorted_feature_names, sorted_importance, color='skyblue')  # Use horizontal bars\n",
    "plt.xlabel('Importance')\n",
    "plt.ylabel('Feature')\n",
    "plt.title('Feature Importance')\n",
    "plt.tight_layout()  # Adjust the layout to fit everything nicely\n",
    "plt.show()"
   ]
  },
  {
   "cell_type": "markdown",
   "id": "6ad5c6c2",
   "metadata": {},
   "source": [
    "# Börja träna modeller"
   ]
  },
  {
   "cell_type": "code",
   "execution_count": null,
   "id": "bc268eb4",
   "metadata": {},
   "outputs": [],
   "source": [
    "final_data = housing_variables[['median_house_value', 'median_income', 'ocean_proximity_encoded', 'population_per_household']].copy()\n",
    "final_data.info()\n"
   ]
  },
  {
   "cell_type": "code",
   "execution_count": null,
   "id": "10bb1103",
   "metadata": {},
   "outputs": [],
   "source": [
    "final_ll_data = housing_variables[['median_house_value', 'median_income', 'ocean_proximity_encoded', 'population_per_household', 'longitude', 'latitude']].copy()\n",
    "final_ll_data.info()"
   ]
  },
  {
   "cell_type": "markdown",
   "id": "060ad6c6",
   "metadata": {},
   "source": [
    "### Linear Regression"
   ]
  },
  {
   "cell_type": "code",
   "execution_count": null,
   "id": "ece0fd49",
   "metadata": {},
   "outputs": [],
   "source": [
    "X = final_ll_data.drop('median_house_value', axis=1)\n",
    "y = final_ll_data['median_house_value']\n",
    "\n",
    "# Split the data into training set and test set\n",
    "# X_train, X_test, y_train, y_test = train_test_split(X, y, test_size=0.2, random_state=42)\n",
    "\n",
    "# First, split your data into a larger training set and a test set\n",
    "X_train_full, X_test, y_train_full, y_test = train_test_split(X, y, test_size=0.2, random_state=42)\n",
    "\n",
    "# Then, split your larger training set into a smaller training set and a validation set\n",
    "X_train, X_val, y_train, y_val = train_test_split(X_train_full, y_train_full, test_size=0.2, random_state=42)"
   ]
  },
  {
   "cell_type": "code",
   "execution_count": null,
   "id": "503e5694",
   "metadata": {},
   "outputs": [],
   "source": [
    "lin_reg = LinearRegression()\n",
    "lin_reg.fit(X_train, y_train)"
   ]
  },
  {
   "cell_type": "code",
   "execution_count": null,
   "id": "c3d81eab",
   "metadata": {},
   "outputs": [],
   "source": [
    "lin_reg_pred_val = lin_reg.predict(X_val)\n",
    "mean_squared_error(y_val, lin_reg_pred_val, squared=False)"
   ]
  },
  {
   "cell_type": "markdown",
   "id": "b8f130be",
   "metadata": {},
   "source": [
    "### Support Vector Regressor"
   ]
  },
  {
   "cell_type": "code",
   "execution_count": null,
   "id": "3524dfb4",
   "metadata": {},
   "outputs": [],
   "source": [
    "# Standardizing the data (as you generally always should do when using SVM models).\n",
    "scaler = StandardScaler()\n",
    "X_train_scaled = scaler.fit_transform(X_train)\n",
    "X_val_scaled = scaler.transform(X_val) # Only transforming the validation data.&nbsp;\n",
    "X_test_scaled = scaler.transform(X_test) # Only transforming the test data.\n",
    "\n",
    "svr_reg = SVR()\n",
    "\n",
    "# Define the parameter grid for GridSearchCV\n",
    "param_grid = {'kernel': ['rbf', 'poly'], 'gamma': [1, 2], 'C': [0.5, 1, 1.5]}\n",
    "\n",
    "# Initialize GridSearchCV with the pipeline and parameter grid\n",
    "grid_search = GridSearchCV(svr_reg, param_grid, cv=5, scoring='neg_mean_squared_error', n_jobs=-1)\n",
    "\n",
    "# Fit GridSearchCV to the training data\n",
    "grid_search.fit(X_train_scaled, y_train)\n",
    "\n",
    "# Get the best model from GridSearchCV\n",
    "best_model = grid_search.best_estimator_\n",
    "\n",
    "# Make predictions with the best model\n",
    "y_pred = best_model.predict(X_val_scaled)\n",
    "\n",
    "# Evaluate the model\n",
    "\n",
    "# mean_squared_error(y_true, y_pred, squared=False)\n",
    "mse = mean_squared_error(y_val, y_pred)\n",
    "rmse = np.sqrt(mse)\n",
    "\n",
    "print(f'Best parameters found: {grid_search.best_params_}')\n",
    "print(f'Mean Squared Error: {mse}')\n",
    "print(f'Root Mean Squared Error: {rmse}')\n"
   ]
  },
  {
   "cell_type": "markdown",
   "id": "47572dfc",
   "metadata": {},
   "source": [
    "### Best SVR regression hyperparameters"
   ]
  },
  {
   "cell_type": "code",
   "execution_count": null,
   "id": "a81284a9",
   "metadata": {},
   "outputs": [],
   "source": [
    "svr_reg_best = SVR(C= 1.5, gamma= 1, kernel= 'poly')\n",
    "svr_reg_best.fit(X_train_scaled, y_train)\n",
    "y_pred_svr_best = svr_reg_best.predict(X_val_scaled)\n",
    "\n",
    "mse_svr_best = mean_squared_error(y_val, y_pred_svr_best)\n",
    "rmse_svr_best = np.sqrt(mse_svr_best)\n",
    "rmse_svr_best"
   ]
  },
  {
   "cell_type": "code",
   "execution_count": null,
   "id": "a91a164d",
   "metadata": {},
   "outputs": [],
   "source": []
  },
  {
   "cell_type": "code",
   "execution_count": null,
   "id": "a1f1b3f4",
   "metadata": {},
   "outputs": [],
   "source": []
  }
 ],
 "metadata": {
  "kernelspec": {
   "display_name": "Python 3 (ipykernel)",
   "language": "python",
   "name": "python3"
  },
  "language_info": {
   "codemirror_mode": {
    "name": "ipython",
    "version": 3
   },
   "file_extension": ".py",
   "mimetype": "text/x-python",
   "name": "python",
   "nbconvert_exporter": "python",
   "pygments_lexer": "ipython3",
   "version": "3.11.7"
  }
 },
 "nbformat": 4,
 "nbformat_minor": 5
}
