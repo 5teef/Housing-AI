{
 "cells": [
  {
   "cell_type": "markdown",
   "id": "21f9c39e",
   "metadata": {},
   "source": [
    "# Kunskapskontroll"
   ]
  },
  {
   "cell_type": "markdown",
   "id": "a9db5c1e-04b4-4663-bd52-99c7cfbf3871",
   "metadata": {},
   "source": [
    "### Fyll i uppgifterna nedan innan du lämnar in på LearnPoint: \n",
    "Namn på samtliga gruppmedlemmar: "
   ]
  },
  {
   "cell_type": "markdown",
   "id": "1c9240d4-6646-48ae-8837-45a0f0b34827",
   "metadata": {},
   "source": [
    "Asami, Guy, Mustafa,  Pawel, Vidar"
   ]
  },
  {
   "cell_type": "markdown",
   "id": "a96931ff",
   "metadata": {},
   "source": [
    "# Code"
   ]
  },
  {
   "cell_type": "markdown",
   "id": "0392ff1e",
   "metadata": {},
   "source": [
    "### Förbered data\n",
    "\n",
    "Konvertera ocean_proximity med ordinal encoding (1-4), ta bort ISLAND\n",
    "\n",
    "Ta bort > 500,000 från kolumnen median_house_value\n",
    "\n",
    "Ta bort > 51 från kolumnen median_house_age\n",
    "\n",
    "Fyll tomma värden med medelvärde/median i kolumnen total_bedrooms\n",
    "\n",
    "Dela datan i train- och test-set\n",
    "\n",
    "Ta bort/kombinera viss kolumner till nya värden?"
   ]
  },
  {
   "cell_type": "code",
   "execution_count": null,
   "id": "ee4fcb98",
   "metadata": {},
   "outputs": [],
   "source": [
    "import numpy as np\n",
    "import pandas as pd\n",
    "import matplotlib.pyplot as plt\n",
    "from sklearn.preprocessing import OrdinalEncoder\n"
   ]
  },
  {
   "cell_type": "code",
   "execution_count": null,
   "id": "abfd2901",
   "metadata": {},
   "outputs": [],
   "source": [
    "housing = pd.read_csv('data/housing.csv')\n"
   ]
  },
  {
   "cell_type": "code",
   "execution_count": null,
   "id": "22cf8a05",
   "metadata": {},
   "outputs": [],
   "source": [
    "# Filter the data and assign it to a new DataFrame\n",
    "filtered_housing = housing[(housing['median_house_value'] <= 500000) & (housing['housing_median_age'] <= 51) & (housing['ocean_proximity'] != 'ISLAND')].copy()\n"
   ]
  },
  {
   "cell_type": "code",
   "execution_count": null,
   "id": "cd0389af",
   "metadata": {},
   "outputs": [],
   "source": [
    "category_mapping = {'INLAND': 0, '<1H OCEAN': 1, 'NEAR OCEAN': 2, 'NEAR BAY': 3}\n",
    "categories = list(category_mapping.keys())\n",
    "encoder = OrdinalEncoder(categories=[categories])\n",
    "filtered_housing['ocean_proximity_encoded'] = encoder.fit_transform(filtered_housing[['ocean_proximity']])\n"
   ]
  },
  {
   "cell_type": "code",
   "execution_count": null,
   "id": "d88f147c",
   "metadata": {},
   "outputs": [],
   "source": [
    "# Calculate the mean of the 'total_bedrooms' column in filtered_housing\n",
    "mean_total_bedrooms = filtered_housing['total_bedrooms'].mean()\n",
    "\n",
    "# Fill the missing values with the mean in filtered_housing\n",
    "filtered_housing.loc[:, 'total_bedrooms'] = filtered_housing['total_bedrooms'].fillna(mean_total_bedrooms)\n"
   ]
  },
  {
   "cell_type": "code",
   "execution_count": null,
   "id": "12356c35",
   "metadata": {},
   "outputs": [],
   "source": [
    "print(\"Column Names:\")\n",
    "print(filtered_housing.columns)\n",
    "print(\"\\n---\\n\")\n",
    "\n",
    "print(\"First 5 Rows:\")\n",
    "print(filtered_housing.head())\n",
    "print(\"\\n---\\n\")\n",
    "\n",
    "print(\"DataFrame Info:\")\n",
    "print(filtered_housing.info())\n",
    "print(\"\\n---\\n\")\n",
    "\n",
    "print(\"Statistical Summary:\")\n",
    "print(filtered_housing.describe())\n",
    "print(\"\\n---\\n\")\n",
    "\n",
    "print(\"Number of Unique Values in Each Column:\")\n",
    "print(filtered_housing.nunique())\n",
    "print(\"\\n---\\n\")\n",
    "\n",
    "print(\"Number of Rows in the DataFrame:\")\n",
    "print(len(filtered_housing))\n"
   ]
  },
  {
   "cell_type": "code",
   "execution_count": null,
   "id": "4e8de744",
   "metadata": {},
   "outputs": [],
   "source": [
    "X = housing.drop(['median_house_value'], axis=1)\n",
    "y = housing['median_house_value']"
   ]
  },
  {
   "cell_type": "markdown",
   "id": "fee19169",
   "metadata": {},
   "source": [
    "## EDA"
   ]
  },
  {
   "cell_type": "code",
   "execution_count": null,
   "id": "5e566f5f",
   "metadata": {},
   "outputs": [],
   "source": []
  },
  {
   "cell_type": "code",
   "execution_count": null,
   "id": "8d605b84-50b6-4dd8-847b-987aec902e8c",
   "metadata": {},
   "outputs": [],
   "source": []
  }
 ],
 "metadata": {
  "kernelspec": {
   "display_name": "Python 3 (ipykernel)",
   "language": "python",
   "name": "python3"
  },
  "language_info": {
   "codemirror_mode": {
    "name": "ipython",
    "version": 3
   },
   "file_extension": ".py",
   "mimetype": "text/x-python",
   "name": "python",
   "nbconvert_exporter": "python",
   "pygments_lexer": "ipython3",
   "version": "3.11.9"
  }
 },
 "nbformat": 4,
 "nbformat_minor": 5
}
